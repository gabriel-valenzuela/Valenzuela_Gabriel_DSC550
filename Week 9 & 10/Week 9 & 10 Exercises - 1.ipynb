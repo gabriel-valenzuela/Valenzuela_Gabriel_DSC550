{
 "cells": [
  {
   "cell_type": "code",
   "execution_count": 1,
   "metadata": {},
   "outputs": [],
   "source": [
    "# Neural Network Classifier with Scikit\n",
    "import pandas as pd, numpy as np, json, re, pickle\n",
    "\n",
    "from nltk.corpus import stopwords\n",
    "from nltk.tokenize import word_tokenize\n",
    "from sklearn.feature_extraction.text import CountVectorizer\n",
    "from sklearn.model_selection import train_test_split\n",
    "from sklearn.metrics import accuracy_score, confusion_matrix, roc_auc_score, auc, precision_recall_fscore_support\n",
    "from sklearn.metrics import classification_report\n",
    "from sklearn.neural_network import MLPClassifier"
   ]
  },
  {
   "cell_type": "code",
   "execution_count": 2,
   "metadata": {},
   "outputs": [
    {
     "name": "stdout",
     "output_type": "stream",
     "text": [
      "<class 'pandas.core.frame.DataFrame'>\n",
      "RangeIndex: 606476 entries, 0 to 606475\n",
      "Data columns (total 2 columns):\n",
      "cat    606476 non-null object\n",
      "txt    606476 non-null object\n",
      "dtypes: object(2)\n",
      "memory usage: 9.3+ MB\n",
      "Size:  606476 \n",
      " Shape:  None \n",
      " Categories:  video_games               435542\n",
      "sports                    145823\n",
      "science_and_technology     25111\n",
      "Name: cat, dtype: int64\n"
     ]
    }
   ],
   "source": [
    "# read controversy data\n",
    "\n",
    "con_df = pd.read_json(r'C:\\Users\\Gabe\\Documents\\Bellevue University\\Data Mining\\Week 9 & 10\\categorized-comments.jsonl', lines=True)\n",
    "\n",
    "# check size, structure and categories\n",
    "con_df.head()\n",
    "print('Size: ', len(con_df), '\\n',\n",
    "      'Shape: ', con_df.info(), '\\n',\n",
    "      'Categories: ', con_df['cat'].value_counts())"
   ]
  },
  {
   "cell_type": "code",
   "execution_count": 3,
   "metadata": {},
   "outputs": [],
   "source": [
    "def clean_text(text):\n",
    "    \"\"\"\n",
    "    Remove punctuations and special characters, makes lower case\n",
    "    Args: text \n",
    "    Output: text\n",
    "    \"\"\"\n",
    "    \n",
    "    text=text.lower()\n",
    "    text=re.sub('</?.*?>',' <>', text)\n",
    "    text=re.sub('\\\\d|\\\\W+|_',' ',text)\n",
    "    text=re.sub('[^a-zA-Z]',\" \", text)\n",
    "    \n",
    "    return text\n",
    "# Create stop words list\n",
    "\n",
    "stop_words = stopwords.words('english')"
   ]
  },
  {
   "cell_type": "code",
   "execution_count": 4,
   "metadata": {
    "scrolled": false
   },
   "outputs": [
    {
     "data": {
      "text/html": [
       "<div>\n",
       "<style scoped>\n",
       "    .dataframe tbody tr th:only-of-type {\n",
       "        vertical-align: middle;\n",
       "    }\n",
       "\n",
       "    .dataframe tbody tr th {\n",
       "        vertical-align: top;\n",
       "    }\n",
       "\n",
       "    .dataframe thead th {\n",
       "        text-align: right;\n",
       "    }\n",
       "</style>\n",
       "<table border=\"1\" class=\"dataframe\">\n",
       "  <thead>\n",
       "    <tr style=\"text-align: right;\">\n",
       "      <th></th>\n",
       "      <th>cat</th>\n",
       "      <th>txt</th>\n",
       "    </tr>\n",
       "  </thead>\n",
       "  <tbody>\n",
       "    <tr>\n",
       "      <td>0</td>\n",
       "      <td>science_and_technology</td>\n",
       "      <td>gt no reselling of phones just chiming in to ...</td>\n",
       "    </tr>\n",
       "    <tr>\n",
       "      <td>1</td>\n",
       "      <td>science_and_technology</td>\n",
       "      <td>just curious any specific reason why i mean i ...</td>\n",
       "    </tr>\n",
       "    <tr>\n",
       "      <td>2</td>\n",
       "      <td>science_and_technology</td>\n",
       "      <td>of course they won t tell you but at the same ...</td>\n",
       "    </tr>\n",
       "    <tr>\n",
       "      <td>3</td>\n",
       "      <td>science_and_technology</td>\n",
       "      <td>you re not missing much v   owner</td>\n",
       "    </tr>\n",
       "    <tr>\n",
       "      <td>4</td>\n",
       "      <td>science_and_technology</td>\n",
       "      <td>nice looking phone</td>\n",
       "    </tr>\n",
       "  </tbody>\n",
       "</table>\n",
       "</div>"
      ],
      "text/plain": [
       "                      cat                                                txt\n",
       "0  science_and_technology   gt no reselling of phones just chiming in to ...\n",
       "1  science_and_technology  just curious any specific reason why i mean i ...\n",
       "2  science_and_technology  of course they won t tell you but at the same ...\n",
       "3  science_and_technology                  you re not missing much v   owner\n",
       "4  science_and_technology                                 nice looking phone"
      ]
     },
     "execution_count": 4,
     "metadata": {},
     "output_type": "execute_result"
    }
   ],
   "source": [
    "size = 30000    # sample size\n",
    "replace = True  # with replacement\n",
    "fn = lambda obj: obj.loc[np.random.choice(obj.index, size, replace),:]\n",
    "\n",
    "controversy = con_df.groupby('cat', as_index=False).apply(fn)\n",
    "\n",
    "# free up memory\n",
    "\n",
    "del con_df\n",
    "\n",
    "controversy['txt'] = controversy['txt'].apply(lambda x:clean_text(x))\n",
    "controversy.reset_index(drop=True, inplace=True)\n",
    "\n",
    "controversy.head()"
   ]
  },
  {
   "cell_type": "code",
   "execution_count": 5,
   "metadata": {},
   "outputs": [],
   "source": [
    "def documents(corpus):\n",
    "    return list(corpus.reviews())\n",
    "\n",
    "def continuous(corpus):\n",
    "    return list(corpus.scores())\n",
    "\n",
    "def make_categorical(corpus):\n",
    "    \"\"\"\n",
    "    terrible: 0.0 < y <= 3.0\n",
    "    okay: 3.0 < y <= 5.0\n",
    "    great: 5.0 < y <= 7.0\n",
    "    amazing: 7.0 < y < 10.1\n",
    "    \"\"\"\n",
    "    return np.digitize(continuous(corpus), [0.0, 3.0, 5.0, 7.0, 10.1])\n",
    "\n",
    "\n",
    "def train_model(path, model, continuous=True, saveto=None, cv=12):\n",
    "    # Load the corpus dat and labels for classification\n",
    "    corpus = PickledReviewsReader(path)\n",
    "    X = documents(corpus)\n",
    "    if continuous:\n",
    "        y = continuous(corpus)\n",
    "        scoring = 'r2_score'\n",
    "    else:\n",
    "        y = make_categorical(corpus)\n",
    "        scoring = 'f1_score'\n",
    "        \n",
    "    # Compute corss-validation scores\n",
    "    scores = cross_val_score(model, X, y, cv=cv, scoring=scoring)\n",
    "    \n",
    "    # Write to disk if specified\n",
    "    #if saveto:\n",
    "    #    joblib.dump(model, saveto)\n",
    "        \n",
    "    # Fit the model on entire dataset\n",
    "    model.fit(X, y)\n",
    "    \n",
    "    # Return scores\n",
    "    return scores"
   ]
  },
  {
   "cell_type": "code",
   "execution_count": 6,
   "metadata": {},
   "outputs": [],
   "source": [
    "#from transformer import TextNormalizer\n",
    "#from reader import PickledReviewsReader\n",
    "from sklearn.pipeline import Pipeline\n",
    "#from sklearn.feature_extraction.text import TfidffVectorizer \n",
    "from sklearn.feature_extraction.text import TfidfVectorizer\n",
    "from sklearn.neural_network import MLPRegressor, MLPClassifier\n",
    "from sklearn.model_selection import train_test_split\n",
    "from sklearn.metrics import mean_squared_error\n",
    "from math import sqrt\n",
    "from sklearn.metrics import r2_score\n"
   ]
  },
  {
   "cell_type": "code",
   "execution_count": 7,
   "metadata": {},
   "outputs": [
    {
     "data": {
      "text/plain": [
       "(90000, 15581)"
      ]
     },
     "execution_count": 7,
     "metadata": {},
     "output_type": "execute_result"
    }
   ],
   "source": [
    "tfidf = TfidfVectorizer(sublinear_tf=True, min_df=10, norm='l2', encoding='latin-1', ngram_range=(1, 2), stop_words='english')\n",
    "features = tfidf.fit_transform(controversy['txt']).toarray()\n",
    "labels = controversy['cat']\n",
    "features.shape"
   ]
  },
  {
   "cell_type": "code",
   "execution_count": 8,
   "metadata": {},
   "outputs": [],
   "source": [
    "from sklearn.model_selection import train_test_split\n",
    "from sklearn.feature_extraction.text import CountVectorizer\n",
    "from sklearn.feature_extraction.text import TfidfTransformer\n",
    "from sklearn.naive_bayes import MultinomialNB\n",
    "\n",
    "\n",
    "X_train, X_test, y_train, y_test = train_test_split(controversy['txt'], controversy['cat'], random_state = 0)\n",
    "\n",
    "\n",
    "count_vect = CountVectorizer()\n",
    "X_train_counts = count_vect.fit_transform(X_train)\n",
    "\n",
    "\n",
    "tfidf_transformer = TfidfTransformer()\n",
    "X_train_tfidf = tfidf_transformer.fit_transform(X_train_counts)\n",
    "\n",
    "\n",
    "clf = MultinomialNB().fit(X_train_tfidf, y_train)"
   ]
  },
  {
   "cell_type": "code",
   "execution_count": 9,
   "metadata": {},
   "outputs": [
    {
     "name": "stdout",
     "output_type": "stream",
     "text": [
      "['sports']\n"
     ]
    }
   ],
   "source": [
    "print(clf.predict(count_vect.transform([\"Thanks again Cleveland and Houston \"])))"
   ]
  },
  {
   "cell_type": "code",
   "execution_count": 10,
   "metadata": {},
   "outputs": [],
   "source": [
    "from sklearn.pipeline import Pipeline\n",
    "text_clf = Pipeline([('vect', CountVectorizer()),('tfidf', TfidfTransformer()),('clf', MultinomialNB())])\n",
    "text_clf = text_clf.fit(X_train, y_train)"
   ]
  },
  {
   "cell_type": "code",
   "execution_count": 11,
   "metadata": {},
   "outputs": [
    {
     "name": "stdout",
     "output_type": "stream",
     "text": [
      "Accuracy: 83.48148148148148\n"
     ]
    }
   ],
   "source": [
    "comments_test = controversy.sample(n=100)\n",
    "y_pred = text_clf.predict(X_train)\n",
    "print('Accuracy: ' + str(np.mean(y_pred == y_train) * 100))"
   ]
  },
  {
   "cell_type": "code",
   "execution_count": 15,
   "metadata": {},
   "outputs": [
    {
     "name": "stdout",
     "output_type": "stream",
     "text": [
      "                        precision    recall  f1-score   support\n",
      "\n",
      "science_and_technology       0.81      0.90      0.85     22589\n",
      "                sports       0.89      0.80      0.84     22462\n",
      "           video_games       0.81      0.80      0.81     22449\n",
      "\n",
      "              accuracy                           0.83     67500\n",
      "             macro avg       0.84      0.83      0.83     67500\n",
      "          weighted avg       0.84      0.83      0.83     67500\n",
      "\n"
     ]
    }
   ],
   "source": [
    "from sklearn.metrics import classification_report, confusion_matrix\n",
    "print(classification_report(y_train, y_pred))"
   ]
  },
  {
   "cell_type": "code",
   "execution_count": 16,
   "metadata": {},
   "outputs": [
    {
     "name": "stdout",
     "output_type": "stream",
     "text": [
      "[[20338   638  1613]\n",
      " [ 1966 18003  2493]\n",
      " [ 2769  1671 18009]]\n"
     ]
    }
   ],
   "source": [
    "print(confusion_matrix(y_train, y_pred))"
   ]
  }
 ],
 "metadata": {
  "kernelspec": {
   "display_name": "Python 3",
   "language": "python",
   "name": "python3"
  },
  "language_info": {
   "codemirror_mode": {
    "name": "ipython",
    "version": 3
   },
   "file_extension": ".py",
   "mimetype": "text/x-python",
   "name": "python",
   "nbconvert_exporter": "python",
   "pygments_lexer": "ipython3",
   "version": "3.7.4"
  }
 },
 "nbformat": 4,
 "nbformat_minor": 2
}
